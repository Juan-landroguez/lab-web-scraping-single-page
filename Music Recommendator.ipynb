{
 "cells": [
  {
   "cell_type": "code",
   "execution_count": 1,
   "id": "5fa86d84",
   "metadata": {},
   "outputs": [],
   "source": [
    "from bs4 import BeautifulSoup\n",
    "import requests\n",
    "import pandas as pd\n"
   ]
  },
  {
   "cell_type": "code",
   "execution_count": 2,
   "id": "51df043f",
   "metadata": {},
   "outputs": [],
   "source": [
    "# 2. find url and store it in a variable\n",
    "\n",
    "url = \"http://www.popvortex.com/music/charts/top-100-songs.php\""
   ]
  },
  {
   "cell_type": "code",
   "execution_count": 3,
   "id": "bfe43a76",
   "metadata": {},
   "outputs": [
    {
     "data": {
      "text/plain": [
       "200"
      ]
     },
     "execution_count": 3,
     "metadata": {},
     "output_type": "execute_result"
    }
   ],
   "source": [
    "# 3. download html with a get request\n",
    "\n",
    "response = requests.get(url)\n",
    "response.status_code # 200 status code means OK!"
   ]
  },
  {
   "cell_type": "code",
   "execution_count": 4,
   "id": "5f505b5e",
   "metadata": {},
   "outputs": [],
   "source": [
    "# 4.1. parse html (create the 'soup')\n",
    "soup = BeautifulSoup(response.content, \"html.parser\")"
   ]
  },
  {
   "cell_type": "code",
   "execution_count": 5,
   "id": "85f452f3",
   "metadata": {},
   "outputs": [],
   "source": [
    "# 4.2. check that the html code looks like it should\n",
    "#soup"
   ]
  },
  {
   "cell_type": "code",
   "execution_count": 6,
   "id": "e4e551c5",
   "metadata": {},
   "outputs": [
    {
     "data": {
      "text/plain": [
       "[<p class=\"title-artist\"><cite class=\"title\">Like Crazy (Deep House Remix)</cite><em class=\"artist\">Jimin</em></p>]"
      ]
     },
     "execution_count": 6,
     "metadata": {},
     "output_type": "execute_result"
    }
   ],
   "source": [
    "# 5. retrieve/extract the desired info (here, you'll paste the \"Selector\" you copied before to get the element that belongs to the top movie)\n",
    "soup.select(\"#chart-position-1 > div.chart-content.col-xs-12.col-sm-8 > p\")\n",
    "#chart-position-1 > div.chart-content.col-xs-12.col-sm-8 > p > cite"
   ]
  },
  {
   "cell_type": "code",
   "execution_count": 7,
   "id": "baa11364",
   "metadata": {},
   "outputs": [
    {
     "data": {
      "text/plain": [
       "'Like Crazy (Deep House Remix)'"
      ]
     },
     "execution_count": 7,
     "metadata": {},
     "output_type": "execute_result"
    }
   ],
   "source": [
    "soup.select(\"p cite\")[0].get_text()\n"
   ]
  },
  {
   "cell_type": "code",
   "execution_count": 8,
   "id": "415b1f24",
   "metadata": {},
   "outputs": [
    {
     "data": {
      "text/plain": [
       "'Jimin'"
      ]
     },
     "execution_count": 8,
     "metadata": {},
     "output_type": "execute_result"
    }
   ],
   "source": [
    "soup.select(\"p em\")[0].get_text()\n"
   ]
  },
  {
   "cell_type": "markdown",
   "id": "7a28ffa8",
   "metadata": {},
   "source": [
    "# Scrape the current top 100 songs and their respective artists, and put the information into a pandas dataframe."
   ]
  },
  {
   "cell_type": "code",
   "execution_count": 9,
   "id": "cf65d032",
   "metadata": {},
   "outputs": [
    {
     "name": "stdout",
     "output_type": "stream",
     "text": [
      "['Jimin', 'Miley Cyrus', 'Morgan Wallen', 'Jimin', 'Luke Combs', 'Jimin', 'Jimin', 'Jimin', 'Donald J. Trump & J6 Prison Choir', 'Rema & Selena Gomez', 'Lainey Wilson', 'Ed Sheeran', 'LINKIN PARK', 'Luke Combs', 'Lauren Daigle', 'Morgan Wallen', 'Luke Combs', 'Morgan Wallen', 'Luke Combs', 'Taylor Swift', 'Coi Leray', 'Paris Paloma', 'Kane Brown & Katelyn Brown', 'Elevation Worship', 'Phil Wickham', 'Tom MacDonald & John Rich', 'Blake Shelton', 'Bailey Zimmerman', 'Jimin', 'HARDY & Lainey Wilson', 'Lauren Daigle', 'Sia', 'Jimin', 'Jimin', 'OneRepublic', 'Lauren Daigle', 'Taylor Swift', 'ROSALÍA & Rauw Alejandro', 'Toosii', 'Ed Sheeran', 'Jelly Roll', 'Morgan Wallen', 'Katy Nichole', 'Zach Bryan', 'Jimin', 'P!nk', 'SZA', 'Harry Styles', 'Morgan Wallen', 'Demi Lovato', 'Daisy Jones & The Six', 'Morgan Wallen', 'Rihanna', 'Miguel', 'Meghan Trainor', 'Brandon Lake', 'Chris Stapleton', 'Josh Groban', 'Lady Gaga', 'KAROL G & Shakira', 'LINKIN PARK', 'Jelly Roll', 'Sam Smith & Kim Petras', 'Meghan Trainor', 'Coco Jones', 'In This Moment', 'PinkPantheress & Ice Spice', 'Carly Pearce', 'Morgan Wallen', 'Tyler Hubbard', 'Parker McCollum', 'Taylor Swift', 'Depeche Mode', 'Katy Nichole & Big Daddy Weave', 'Luke Combs', 'Morgan Wallen', 'JVKE', 'Lauren Daigle', 'Rema', 'The Weeknd & Ariana Grande', 'Daisy Jones & The Six', 'Megan Moroney', 'RAYE & 070 Shake', 'Luke Combs', 'Cody Johnson', 'Timcast', 'Eric Clapton', 'Blake Shelton', 'Tiësto & Tate McRae', 'Lady Gaga', 'Avril Lavigne', 'Metro Boomin, The Weeknd & 21 Savage', 'Fleetwood Mac', 'Morgan Wallen', 'Natasha Owens', 'Morgan Wallen', 'Randy Travis', 'Bad Omens', 'Jamie Fine', 'Warren Zeiders']\n"
     ]
    }
   ],
   "source": [
    "title = []\n",
    "band = []\n",
    "num_iter = len(soup.select(\"p cite\"))\n",
    "ttitle = soup.select(\"p cite\")\n",
    "tband = soup.select(\"p em\")\n",
    "for i in range(num_iter):\n",
    "    title.append(ttitle[i].get_text())\n",
    "    band.append(tband[i].get_text())\n",
    "    \n",
    "#print(title)\n",
    "print(band)\n",
    "\n"
   ]
  },
  {
   "cell_type": "code",
   "execution_count": 10,
   "id": "ba1c99f1",
   "metadata": {},
   "outputs": [],
   "source": [
    "# each list becomes a column\n",
    "Topsongs = pd.DataFrame({\"title\":title,\n",
    "                       \"band\":band,\n",
    "                      })"
   ]
  },
  {
   "cell_type": "code",
   "execution_count": 11,
   "id": "a4df2367",
   "metadata": {},
   "outputs": [
    {
     "data": {
      "text/html": [
       "<div>\n",
       "<style scoped>\n",
       "    .dataframe tbody tr th:only-of-type {\n",
       "        vertical-align: middle;\n",
       "    }\n",
       "\n",
       "    .dataframe tbody tr th {\n",
       "        vertical-align: top;\n",
       "    }\n",
       "\n",
       "    .dataframe thead th {\n",
       "        text-align: right;\n",
       "    }\n",
       "</style>\n",
       "<table border=\"1\" class=\"dataframe\">\n",
       "  <thead>\n",
       "    <tr style=\"text-align: right;\">\n",
       "      <th></th>\n",
       "      <th>title</th>\n",
       "      <th>band</th>\n",
       "    </tr>\n",
       "  </thead>\n",
       "  <tbody>\n",
       "    <tr>\n",
       "      <th>0</th>\n",
       "      <td>Like Crazy (Deep House Remix)</td>\n",
       "      <td>Jimin</td>\n",
       "    </tr>\n",
       "    <tr>\n",
       "      <th>1</th>\n",
       "      <td>Flowers</td>\n",
       "      <td>Miley Cyrus</td>\n",
       "    </tr>\n",
       "    <tr>\n",
       "      <th>2</th>\n",
       "      <td>Last Night</td>\n",
       "      <td>Morgan Wallen</td>\n",
       "    </tr>\n",
       "    <tr>\n",
       "      <th>3</th>\n",
       "      <td>Like Crazy (UK Garage Remix)</td>\n",
       "      <td>Jimin</td>\n",
       "    </tr>\n",
       "    <tr>\n",
       "      <th>4</th>\n",
       "      <td>Fast Car</td>\n",
       "      <td>Luke Combs</td>\n",
       "    </tr>\n",
       "    <tr>\n",
       "      <th>...</th>\n",
       "      <td>...</td>\n",
       "      <td>...</td>\n",
       "    </tr>\n",
       "    <tr>\n",
       "      <th>95</th>\n",
       "      <td>Cowgirls (feat. ERNEST)</td>\n",
       "      <td>Morgan Wallen</td>\n",
       "    </tr>\n",
       "    <tr>\n",
       "      <th>96</th>\n",
       "      <td>Forever and Ever, Amen</td>\n",
       "      <td>Randy Travis</td>\n",
       "    </tr>\n",
       "    <tr>\n",
       "      <th>97</th>\n",
       "      <td>Just Pretend</td>\n",
       "      <td>Bad Omens</td>\n",
       "    </tr>\n",
       "    <tr>\n",
       "      <th>98</th>\n",
       "      <td>If Anything's Left</td>\n",
       "      <td>Jamie Fine</td>\n",
       "    </tr>\n",
       "    <tr>\n",
       "      <th>99</th>\n",
       "      <td>Pretty Little Poison</td>\n",
       "      <td>Warren Zeiders</td>\n",
       "    </tr>\n",
       "  </tbody>\n",
       "</table>\n",
       "<p>100 rows × 2 columns</p>\n",
       "</div>"
      ],
      "text/plain": [
       "                            title            band\n",
       "0   Like Crazy (Deep House Remix)           Jimin\n",
       "1                         Flowers     Miley Cyrus\n",
       "2                      Last Night   Morgan Wallen\n",
       "3    Like Crazy (UK Garage Remix)           Jimin\n",
       "4                        Fast Car      Luke Combs\n",
       "..                            ...             ...\n",
       "95        Cowgirls (feat. ERNEST)   Morgan Wallen\n",
       "96         Forever and Ever, Amen    Randy Travis\n",
       "97                   Just Pretend       Bad Omens\n",
       "98             If Anything's Left      Jamie Fine\n",
       "99           Pretty Little Poison  Warren Zeiders\n",
       "\n",
       "[100 rows x 2 columns]"
      ]
     },
     "execution_count": 11,
     "metadata": {},
     "output_type": "execute_result"
    }
   ],
   "source": [
    "Topsongs"
   ]
  },
  {
   "cell_type": "markdown",
   "id": "302dce8b",
   "metadata": {},
   "source": [
    "# Find other lists of hot songs on the internet and scrape them too: having a bigger pool of songs will be awesome!\n"
   ]
  },
  {
   "cell_type": "code",
   "execution_count": 12,
   "id": "09d7440e",
   "metadata": {},
   "outputs": [],
   "source": [
    "# Top 100 Hip Hop & Rap Songs\n",
    "# "
   ]
  },
  {
   "cell_type": "code",
   "execution_count": 13,
   "id": "3b6a179f",
   "metadata": {},
   "outputs": [],
   "source": [
    "# 2. find url and store it in a variable\n",
    "\n",
    "url2 = \"https://www.popvortex.com/music/charts/top-rap-songs.php\""
   ]
  },
  {
   "cell_type": "code",
   "execution_count": 14,
   "id": "71cdf53b",
   "metadata": {},
   "outputs": [
    {
     "data": {
      "text/plain": [
       "200"
      ]
     },
     "execution_count": 14,
     "metadata": {},
     "output_type": "execute_result"
    }
   ],
   "source": [
    "# 3. download html with a get request\n",
    "\n",
    "response2 = requests.get(url2)\n",
    "response2.status_code # 200 status code means OK!"
   ]
  },
  {
   "cell_type": "code",
   "execution_count": 15,
   "id": "5b6a58ff",
   "metadata": {},
   "outputs": [],
   "source": [
    "# 4.1. parse html (create the 'soup')\n",
    "soup2 = BeautifulSoup(response2.content, \"html.parser\")"
   ]
  },
  {
   "cell_type": "code",
   "execution_count": 16,
   "id": "3d5f14c2",
   "metadata": {},
   "outputs": [],
   "source": [
    "# 4.2. check that the html code looks like it should\n",
    "#soup"
   ]
  },
  {
   "cell_type": "code",
   "execution_count": 17,
   "id": "93ab5895",
   "metadata": {},
   "outputs": [
    {
     "data": {
      "text/plain": [
       "[<p class=\"title-artist\"><cite class=\"title\">Players</cite><em class=\"artist\">Coi Leray</em></p>]"
      ]
     },
     "execution_count": 17,
     "metadata": {},
     "output_type": "execute_result"
    }
   ],
   "source": [
    "# 5. retrieve/extract the desired info (here, you'll paste the \"Selector\" you copied before to get the element that belongs to the top movie)\n",
    "soup2.select(\"#chart-position-1 > div.chart-content.col-xs-12.col-sm-8 > p\")\n",
    "#chart-position-1 > div.chart-content.col-xs-12.col-sm-8 > p > cite"
   ]
  },
  {
   "cell_type": "code",
   "execution_count": 18,
   "id": "12ce56da",
   "metadata": {},
   "outputs": [
    {
     "data": {
      "text/plain": [
       "'Coi Leray'"
      ]
     },
     "execution_count": 18,
     "metadata": {},
     "output_type": "execute_result"
    }
   ],
   "source": [
    "soup2.select(\"p cite\")[0].get_text()\n",
    "soup2.select(\"p em\")[0].get_text()\n"
   ]
  },
  {
   "cell_type": "code",
   "execution_count": 19,
   "id": "df1bd330",
   "metadata": {},
   "outputs": [
    {
     "name": "stdout",
     "output_type": "stream",
     "text": [
      "['Coi Leray', 'Tom MacDonald & John Rich', 'Toosii', 'Metro Boomin, The Weeknd & 21 Savage', 'Big Boss Vette', 'Zoey Dollaz', 'Latto', 'Russ', 'Lil Uzi Vert', 'Nicki Minaj', 'Coi Leray', 'Lil Baby', 'Jelly Roll', 'Big Boss Vette', 'Lola Brooke', 'Metro Boomin, Future & Chris Brown', 'Coolio', 'NLE Choppa & Lil Wayne', 'Juice WRLD', 'Eminem', 'Lil Uzi Vert', 'Icandy', 'NF', 'Dr. Dre & Snoop Dogg', 'Superstar Pride', 'Eminem', 'Drake & 21 Savage', 'House of Pain', 'Vanilla Ice', 'Dr. Dre', 'Lil Durk', 'Montell Jordan', 'Wiz Khalifa', 'Post Malone & Swae Lee', 'Masked Wolf', 'Flo Rida', '50 Cent', 'Hit-Boy & Nas', 'Post Malone', 'Post Malone', 'De La Soul', 'Bryson Gray & Tyson James', 'Cartel de Santa', 'NF', 'Beastie Boys', 'Eminem', 'Macklemore', 'MC Hammer', 'Latto', '2Pac', 'Eminem', 'Doechii', 'NLE Choppa', 'Young Cardi & Bankrol Hayden', 'Macklemore & Ryan Lewis', 'Lil Jon & The East Side Boyz & Ying Yang Twins', 'Saweetie', 'Run-DMC', 'Latto & Mariah Carey', 'Lil Baby & Fridayy', 'Latto', 'Flo Rida', 'Lecrae & Andy Mineo', 'Salt-N-Pepa', 'Lil Wayne', 'The Notorious B.I.G.', 'Post Malone', 'Salt-N-Pepa', 'Tone-Loc', 'Masked Wolf', 'Coi Leray', 'Moone Walker', 'Drake & 21 Savage', 'Snoop Dogg', 'Lloyd Banks', 'Toosii', 'V.I.C.', 'DJ Khaled', 'Fugees', 'Sheck Wes', 'Lil Nas X & Jack Harlow', 'Ice Spice', 'Doechii', 'Coi Leray & Busta Rhymes', 'Daddyphatsnaps', 'The Sugarhill Gang', 'Ice Cube', 'Bone Thugs-n-Harmony', 'Post Malone', 'NF', 'Nelly', 'Beastie Boys', 'Warren G', 'Afroman', 'Jelly Roll', 'Post Malone, Mark Morrison & Sickick', 'KB', 'Bizzy Crook', 'Big Boss Vette', 'Quavo & Takeoff']\n"
     ]
    }
   ],
   "source": [
    "title = []\n",
    "band = []\n",
    "num_iter = len(soup2.select(\"p cite\"))\n",
    "ttitle = soup2.select(\"p cite\")\n",
    "tband = soup2.select(\"p em\")\n",
    "for i in range(num_iter):\n",
    "    title.append(ttitle[i].get_text())\n",
    "    band.append(tband[i].get_text())\n",
    "    \n",
    "#print(title)\n",
    "print(band)\n"
   ]
  },
  {
   "cell_type": "code",
   "execution_count": 20,
   "id": "a5686861",
   "metadata": {},
   "outputs": [],
   "source": [
    "# each list becomes a column\n",
    "Topsongs2 = pd.DataFrame({\"title\":title,\n",
    "                       \"band\":band,\n",
    "                      })"
   ]
  },
  {
   "cell_type": "code",
   "execution_count": 21,
   "id": "b9e3948f",
   "metadata": {},
   "outputs": [],
   "source": [
    "# Top 100 Pop Songs\n",
    "# "
   ]
  },
  {
   "cell_type": "code",
   "execution_count": 22,
   "id": "2caff2c6",
   "metadata": {},
   "outputs": [],
   "source": [
    "# 2. find url and store it in a variable\n",
    "\n",
    "url3 = \"https://www.popvortex.com/music/charts/top-pop-songs.php\""
   ]
  },
  {
   "cell_type": "code",
   "execution_count": 23,
   "id": "64b0bf9c",
   "metadata": {},
   "outputs": [
    {
     "data": {
      "text/plain": [
       "200"
      ]
     },
     "execution_count": 23,
     "metadata": {},
     "output_type": "execute_result"
    }
   ],
   "source": [
    "# 3. download html with a get request\n",
    "\n",
    "response3 = requests.get(url3)\n",
    "response3.status_code # 200 status code means OK!"
   ]
  },
  {
   "cell_type": "code",
   "execution_count": 24,
   "id": "017daa12",
   "metadata": {},
   "outputs": [],
   "source": [
    "# 4.1. parse html (create the 'soup')\n",
    "soup3 = BeautifulSoup(response3.content, \"html.parser\")"
   ]
  },
  {
   "cell_type": "code",
   "execution_count": 25,
   "id": "58cd00d5",
   "metadata": {},
   "outputs": [],
   "source": [
    "# 4.2. check that the html code looks like it should\n",
    "#soup"
   ]
  },
  {
   "cell_type": "code",
   "execution_count": 26,
   "id": "e8292e0c",
   "metadata": {},
   "outputs": [
    {
     "data": {
      "text/plain": [
       "[<p class=\"title-artist\"><cite class=\"title\">Like Crazy (Deep House Remix)</cite><em class=\"artist\">Jimin</em></p>]"
      ]
     },
     "execution_count": 26,
     "metadata": {},
     "output_type": "execute_result"
    }
   ],
   "source": [
    "# 5. retrieve/extract the desired info (here, you'll paste the \"Selector\" you copied before to get the element that belongs to the top movie)\n",
    "soup3.select(\"#chart-position-1 > div.chart-content.col-xs-12.col-sm-8 > p\")\n",
    "#chart-position-1 > div.chart-content.col-xs-12.col-sm-8 > p > cite"
   ]
  },
  {
   "cell_type": "code",
   "execution_count": 27,
   "id": "058f8748",
   "metadata": {},
   "outputs": [
    {
     "data": {
      "text/plain": [
       "'Jimin'"
      ]
     },
     "execution_count": 27,
     "metadata": {},
     "output_type": "execute_result"
    }
   ],
   "source": [
    "soup3.select(\"p cite\")[0].get_text()\n",
    "soup3.select(\"p em\")[0].get_text()\n"
   ]
  },
  {
   "cell_type": "code",
   "execution_count": 28,
   "id": "b030f45c",
   "metadata": {},
   "outputs": [
    {
     "name": "stdout",
     "output_type": "stream",
     "text": [
      "['Jimin', 'Miley Cyrus', 'Jimin', 'Jimin', 'Jimin', 'Jimin', 'Rema & Selena Gomez', 'Ed Sheeran', 'Taylor Swift', 'Jimin', 'Lauren Daigle', 'Sia', 'Jimin', 'Jimin', 'OneRepublic', 'Taylor Swift', 'Ed Sheeran', 'Jimin', 'P!nk', 'Harry Styles', 'Demi Lovato', 'Rihanna', 'Meghan Trainor', 'Josh Groban', 'Lady Gaga', 'Sam Smith & Kim Petras', 'Meghan Trainor', 'PinkPantheress & Ice Spice', 'Taylor Swift', 'JVKE', 'RAYE & 070 Shake', 'Lady Gaga', 'Avril Lavigne', 'Natasha Owens', 'Jamie Fine', 'Niall Horan', 'Ed Sheeran', 'Ed Sheeran', 'James Blunt', 'Beyoncé', 'Elton John & Dua Lipa', 'Justin Bieber', 'Carrie Underwood', 'Nicky Youre & Dazy', 'Taylor Swift', 'Lizzo', 'Miley Cyrus', 'Taylor Swift', 'Ed Sheeran', 'Taylor Swift', 'P!nk', 'Jax', 'Taylor Swift, Joy Williams & John Paul White', 'Taylor Swift', 'Norah Jones', 'Tears for Fears', 'Taylor Swift', 'Miley Cyrus', 'Adele', 'Sam Smith & Kim Petras', 'Harry Styles', 'Taylor Swift', 'Miley Cyrus', 'KC and the Sunshine Band', 'Jimin', 'Taylor Swift', 'The Kid LAROI', 'Miley Cyrus', 'ABBA', 'Taylor Swift', 'P!nk', 'The Everly Brothers', 'Taylor Swift', 'Lizzo', 'Selena Gomez', 'Harry Styles', 'Rick Astley', 'Spice Girls', 'Miley Cyrus', 'Sabrina Carpenter', 'Lana Del Rey', 'IVE', 'Chris Isaak', 'John Denver', 'Taylor Swift', 'Harry Styles', 'Ed Sheeran', 'The Mamas & The Papas', 'Ed Sheeran', 'a-ha', 'P!nk', 'JOSHUA', 'The Righteous Brothers', 'Jax', 'Maroon 5', 'Rihanna', 'Jimin', 'Beyoncé', 'Christina Aguilera & Benny Benassi', 'Mae Stephens']\n"
     ]
    }
   ],
   "source": [
    "title = []\n",
    "band = []\n",
    "num_iter = len(soup3.select(\"p cite\"))\n",
    "ttitle = soup3.select(\"p cite\")\n",
    "tband = soup3.select(\"p em\")\n",
    "for i in range(num_iter):\n",
    "    title.append(ttitle[i].get_text())\n",
    "    band.append(tband[i].get_text())\n",
    "    \n",
    "#print(title)\n",
    "print(band)\n"
   ]
  },
  {
   "cell_type": "code",
   "execution_count": 39,
   "id": "924f16fe",
   "metadata": {},
   "outputs": [
    {
     "data": {
      "text/html": [
       "<div>\n",
       "<style scoped>\n",
       "    .dataframe tbody tr th:only-of-type {\n",
       "        vertical-align: middle;\n",
       "    }\n",
       "\n",
       "    .dataframe tbody tr th {\n",
       "        vertical-align: top;\n",
       "    }\n",
       "\n",
       "    .dataframe thead th {\n",
       "        text-align: right;\n",
       "    }\n",
       "</style>\n",
       "<table border=\"1\" class=\"dataframe\">\n",
       "  <thead>\n",
       "    <tr style=\"text-align: right;\">\n",
       "      <th></th>\n",
       "      <th>title</th>\n",
       "      <th>band</th>\n",
       "    </tr>\n",
       "  </thead>\n",
       "  <tbody>\n",
       "    <tr>\n",
       "      <th>0</th>\n",
       "      <td>Last Night</td>\n",
       "      <td>Morgan Wallen</td>\n",
       "    </tr>\n",
       "    <tr>\n",
       "      <th>1</th>\n",
       "      <td>Fast Car</td>\n",
       "      <td>Luke Combs</td>\n",
       "    </tr>\n",
       "    <tr>\n",
       "      <th>2</th>\n",
       "      <td>Heart Like A Truck</td>\n",
       "      <td>Lainey Wilson</td>\n",
       "    </tr>\n",
       "    <tr>\n",
       "      <th>3</th>\n",
       "      <td>Growin' Up and Gettin' Old</td>\n",
       "      <td>Luke Combs</td>\n",
       "    </tr>\n",
       "    <tr>\n",
       "      <th>4</th>\n",
       "      <td>Thinkin’ Bout Me</td>\n",
       "      <td>Morgan Wallen</td>\n",
       "    </tr>\n",
       "    <tr>\n",
       "      <th>...</th>\n",
       "      <td>...</td>\n",
       "      <td>...</td>\n",
       "    </tr>\n",
       "    <tr>\n",
       "      <th>95</th>\n",
       "      <td>Outlaws &amp; Outsiders (feat. Travis Tritt, Ivan ...</td>\n",
       "      <td>Cory Marks</td>\n",
       "    </tr>\n",
       "    <tr>\n",
       "      <th>96</th>\n",
       "      <td>Three Wooden Crosses</td>\n",
       "      <td>Randy Travis</td>\n",
       "    </tr>\n",
       "    <tr>\n",
       "      <th>97</th>\n",
       "      <td>Penthouse</td>\n",
       "      <td>Kelsea Ballerini</td>\n",
       "    </tr>\n",
       "    <tr>\n",
       "      <th>98</th>\n",
       "      <td>No Body</td>\n",
       "      <td>Blake Shelton</td>\n",
       "    </tr>\n",
       "    <tr>\n",
       "      <th>99</th>\n",
       "      <td>Over For You</td>\n",
       "      <td>Morgan Evans</td>\n",
       "    </tr>\n",
       "  </tbody>\n",
       "</table>\n",
       "<p>100 rows × 2 columns</p>\n",
       "</div>"
      ],
      "text/plain": [
       "                                                title              band\n",
       "0                                          Last Night     Morgan Wallen\n",
       "1                                            Fast Car        Luke Combs\n",
       "2                                  Heart Like A Truck     Lainey Wilson\n",
       "3                          Growin' Up and Gettin' Old        Luke Combs\n",
       "4                                    Thinkin’ Bout Me     Morgan Wallen\n",
       "..                                                ...               ...\n",
       "95  Outlaws & Outsiders (feat. Travis Tritt, Ivan ...        Cory Marks\n",
       "96                               Three Wooden Crosses      Randy Travis\n",
       "97                                          Penthouse  Kelsea Ballerini\n",
       "98                                            No Body     Blake Shelton\n",
       "99                                       Over For You      Morgan Evans\n",
       "\n",
       "[100 rows x 2 columns]"
      ]
     },
     "execution_count": 39,
     "metadata": {},
     "output_type": "execute_result"
    }
   ],
   "source": [
    "# each list becomes a column\n",
    "Topsongs3 = pd.DataFrame({\"title\":title,\n",
    "                       \"band\":band,\n",
    "                      })\n",
    "Topsongs3"
   ]
  },
  {
   "cell_type": "code",
   "execution_count": 30,
   "id": "5850a41b",
   "metadata": {},
   "outputs": [],
   "source": [
    "# Top 100 Country Songs\n",
    "# "
   ]
  },
  {
   "cell_type": "code",
   "execution_count": 31,
   "id": "2582d7f4",
   "metadata": {},
   "outputs": [],
   "source": [
    "# 2. find url and store it in a variable\n",
    "\n",
    "url4 = \"https://www.popvortex.com/music/charts/top-country-songs.php\""
   ]
  },
  {
   "cell_type": "code",
   "execution_count": 32,
   "id": "2af33ce1",
   "metadata": {},
   "outputs": [
    {
     "data": {
      "text/plain": [
       "200"
      ]
     },
     "execution_count": 32,
     "metadata": {},
     "output_type": "execute_result"
    }
   ],
   "source": [
    "# 3. download html with a get request\n",
    "\n",
    "response4 = requests.get(url4)\n",
    "response4.status_code # 200 status code means OK!"
   ]
  },
  {
   "cell_type": "code",
   "execution_count": 33,
   "id": "f8d058df",
   "metadata": {},
   "outputs": [],
   "source": [
    "# 4.1. parse html (create the 'soup')\n",
    "soup4 = BeautifulSoup(response4.content, \"html.parser\")"
   ]
  },
  {
   "cell_type": "code",
   "execution_count": 34,
   "id": "c93ca271",
   "metadata": {},
   "outputs": [],
   "source": [
    "# 4.2. check that the html code looks like it should\n",
    "#soup"
   ]
  },
  {
   "cell_type": "code",
   "execution_count": 35,
   "id": "a296166e",
   "metadata": {},
   "outputs": [
    {
     "data": {
      "text/plain": [
       "[<p class=\"title-artist\"><cite class=\"title\">Last Night</cite><em class=\"artist\">Morgan Wallen</em></p>]"
      ]
     },
     "execution_count": 35,
     "metadata": {},
     "output_type": "execute_result"
    }
   ],
   "source": [
    "# 5. retrieve/extract the desired info (here, you'll paste the \"Selector\" you copied before to get the element that belongs to the top movie)\n",
    "soup4.select(\"#chart-position-1 > div.chart-content.col-xs-12.col-sm-8 > p\")\n",
    "#chart-position-1 > div.chart-content.col-xs-12.col-sm-8 > p > cite"
   ]
  },
  {
   "cell_type": "code",
   "execution_count": 36,
   "id": "c01f0614",
   "metadata": {},
   "outputs": [
    {
     "data": {
      "text/plain": [
       "'Morgan Wallen'"
      ]
     },
     "execution_count": 36,
     "metadata": {},
     "output_type": "execute_result"
    }
   ],
   "source": [
    "soup4.select(\"p cite\")[0].get_text()\n",
    "soup4.select(\"p em\")[0].get_text()\n"
   ]
  },
  {
   "cell_type": "code",
   "execution_count": 37,
   "id": "9f108f24",
   "metadata": {},
   "outputs": [
    {
     "name": "stdout",
     "output_type": "stream",
     "text": [
      "['Morgan Wallen', 'Luke Combs', 'Lainey Wilson', 'Luke Combs', 'Morgan Wallen', 'Luke Combs', 'Luke Combs', 'Morgan Wallen', 'Kane Brown & Katelyn Brown', 'Blake Shelton', 'Bailey Zimmerman', 'HARDY & Lainey Wilson', 'Jelly Roll', 'Morgan Wallen', 'Zach Bryan', 'Morgan Wallen', 'Morgan Wallen', 'Chris Stapleton', 'Carly Pearce', 'Morgan Wallen', 'Tyler Hubbard', 'Luke Combs', 'Parker McCollum', 'Morgan Wallen', 'Luke Combs', 'Blake Shelton', 'Cody Johnson', 'Megan Moroney', 'Morgan Wallen', 'Morgan Wallen', 'Randy Travis', 'Warren Zeiders', 'Luke Combs', 'Morgan Wallen', 'Luke Combs', 'Luke Combs', 'Cole Swindell', 'Dierks Bentley', 'Cody Johnson', 'Morgan Wallen', 'Luke Combs', 'Morgan Wallen', 'Lainey Wilson', 'HARDY', 'Luke Combs', 'Randy Travis', 'Chris Stapleton', 'Chris Stapleton', 'Will Dempsey', 'Corey Kent', 'Luke Combs', 'Chris Stapleton', 'Morgan Wallen', 'Zach Bryan', 'Tim McGraw', 'Luke Combs', 'Jordan Davis', 'Chris Stapleton', 'Walker Hayes', 'Lainey Wilson', 'Lainey Wilson', 'Morgan Wallen', 'Bailey Zimmerman', 'Scotty McCreery', 'Taylor Swift', 'Nate Smith', 'Morgan Wallen', 'Kelsea Ballerini', 'Old Dominion', 'Taylor Swift', 'Cole Swindell', 'Brett Young', 'HARDY', 'Lil Nas X', 'Luke Combs', 'Brett Young', 'Lee Ann Womack', 'Zach Bryan', 'Zach Bryan', 'Morgan Wallen', 'Cooper Alan', 'Luke Combs', 'Luke Combs', 'Dolly Parton & Kenny Rogers', 'Jordan Davis', 'Chris Young', 'Luke Combs', 'Taylor Swift', 'Chase Rice', 'Luke Combs', 'Kelsea Ballerini', 'Bailey Zimmerman', 'Luke Combs', 'Luke Combs', 'Jamey Johnson', 'Cory Marks', 'Randy Travis', 'Kelsea Ballerini', 'Blake Shelton', 'Morgan Evans']\n"
     ]
    }
   ],
   "source": [
    "title = []\n",
    "band = []\n",
    "num_iter = len(soup4.select(\"p cite\"))\n",
    "ttitle = soup4.select(\"p cite\")\n",
    "tband = soup4.select(\"p em\")\n",
    "for i in range(num_iter):\n",
    "    title.append(ttitle[i].get_text())\n",
    "    band.append(tband[i].get_text())\n",
    "    \n",
    "#print(title)\n",
    "print(band)\n"
   ]
  },
  {
   "cell_type": "code",
   "execution_count": 38,
   "id": "96967f19",
   "metadata": {},
   "outputs": [],
   "source": [
    "# each list becomes a column\n",
    "Topsongs4 = pd.DataFrame({\"title\":title,\n",
    "                       \"band\":band,\n",
    "                      })"
   ]
  }
 ],
 "metadata": {
  "kernelspec": {
   "display_name": "Python 3 (ipykernel)",
   "language": "python",
   "name": "python3"
  },
  "language_info": {
   "codemirror_mode": {
    "name": "ipython",
    "version": 3
   },
   "file_extension": ".py",
   "mimetype": "text/x-python",
   "name": "python",
   "nbconvert_exporter": "python",
   "pygments_lexer": "ipython3",
   "version": "3.9.13"
  }
 },
 "nbformat": 4,
 "nbformat_minor": 5
}
